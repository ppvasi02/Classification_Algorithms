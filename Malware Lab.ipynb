{
 "cells": [
  {
   "cell_type": "code",
   "execution_count": 1,
   "id": "bcabaa26",
   "metadata": {},
   "outputs": [
    {
     "name": "stdout",
     "output_type": "stream",
     "text": [
      "CSV file imported successfully!\n",
      "   Virtual  Offset  loc  Import  Imports  var  Forwarder  UINT  LONG  BOOL  \\\n",
      "0        0       0    1       0        0    0          0     0     0     0   \n",
      "1        0       0    0       0        0    0          0     0     0     0   \n",
      "2        0       0    1       0        0    0          0     0     0     0   \n",
      "3        0       0    1       0        0    0          0     0     0     0   \n",
      "4        0       0    0       0        0    0          0     0     0     0   \n",
      "\n",
      "   ...  count_file_written  count_file_exists  count_file_deleted  \\\n",
      "0  ...                   0                  0                   0   \n",
      "1  ...                   0                  0                   0   \n",
      "2  ...                   0                  0                   0   \n",
      "3  ...                   0                  0                   0   \n",
      "4  ...                   0                  0                   0   \n",
      "\n",
      "   count_file_copied  count_file_renamed  count_regkey_written  \\\n",
      "0                  0                   0                     0   \n",
      "1                  0                   0                     0   \n",
      "2                  0                   0                     0   \n",
      "3                  0                   0                     0   \n",
      "4                  0                   0                     0   \n",
      "\n",
      "   count_regkey_deleted  count_file_opened  count_dll_loaded  label  \n",
      "0                     0                  0                 0      0  \n",
      "1                     0                  0                 0      0  \n",
      "2                     0                  0                 0      0  \n",
      "3                     0                  0                 0      0  \n",
      "4                     0                  0                 0      0  \n",
      "\n",
      "[5 rows x 1085 columns]\n",
      "(6248, 1085)\n"
     ]
    }
   ],
   "source": [
    "import pandas as pd\n",
    "\n",
    "# Specify the URL of the CSV file\n",
    "url = \"https://storm.cis.fordham.edu/~gweiss/classes/cisc5660/data/Malware-staDyn-data.csv\"\n",
    "\n",
    "# Read the CSV into a Pandas DataFrame\n",
    "try:\n",
    "    df = pd.read_csv(url)\n",
    "    print(\"CSV file imported successfully!\")\n",
    "except Exception as e:\n",
    "    print(f\"An error occurred while importing the CSV: {e}\")\n",
    "\n",
    "print(df.head())  # Display the first few rows\n",
    "print(df.shape)   # Display the shape (rows, columns) of the DataFrame"
   ]
  },
  {
   "cell_type": "code",
   "execution_count": 2,
   "id": "ed7f4e50",
   "metadata": {},
   "outputs": [
    {
     "data": {
      "text/html": [
       "<style>#sk-container-id-1 {color: black;background-color: white;}#sk-container-id-1 pre{padding: 0;}#sk-container-id-1 div.sk-toggleable {background-color: white;}#sk-container-id-1 label.sk-toggleable__label {cursor: pointer;display: block;width: 100%;margin-bottom: 0;padding: 0.3em;box-sizing: border-box;text-align: center;}#sk-container-id-1 label.sk-toggleable__label-arrow:before {content: \"▸\";float: left;margin-right: 0.25em;color: #696969;}#sk-container-id-1 label.sk-toggleable__label-arrow:hover:before {color: black;}#sk-container-id-1 div.sk-estimator:hover label.sk-toggleable__label-arrow:before {color: black;}#sk-container-id-1 div.sk-toggleable__content {max-height: 0;max-width: 0;overflow: hidden;text-align: left;background-color: #f0f8ff;}#sk-container-id-1 div.sk-toggleable__content pre {margin: 0.2em;color: black;border-radius: 0.25em;background-color: #f0f8ff;}#sk-container-id-1 input.sk-toggleable__control:checked~div.sk-toggleable__content {max-height: 200px;max-width: 100%;overflow: auto;}#sk-container-id-1 input.sk-toggleable__control:checked~label.sk-toggleable__label-arrow:before {content: \"▾\";}#sk-container-id-1 div.sk-estimator input.sk-toggleable__control:checked~label.sk-toggleable__label {background-color: #d4ebff;}#sk-container-id-1 div.sk-label input.sk-toggleable__control:checked~label.sk-toggleable__label {background-color: #d4ebff;}#sk-container-id-1 input.sk-hidden--visually {border: 0;clip: rect(1px 1px 1px 1px);clip: rect(1px, 1px, 1px, 1px);height: 1px;margin: -1px;overflow: hidden;padding: 0;position: absolute;width: 1px;}#sk-container-id-1 div.sk-estimator {font-family: monospace;background-color: #f0f8ff;border: 1px dotted black;border-radius: 0.25em;box-sizing: border-box;margin-bottom: 0.5em;}#sk-container-id-1 div.sk-estimator:hover {background-color: #d4ebff;}#sk-container-id-1 div.sk-parallel-item::after {content: \"\";width: 100%;border-bottom: 1px solid gray;flex-grow: 1;}#sk-container-id-1 div.sk-label:hover label.sk-toggleable__label {background-color: #d4ebff;}#sk-container-id-1 div.sk-serial::before {content: \"\";position: absolute;border-left: 1px solid gray;box-sizing: border-box;top: 0;bottom: 0;left: 50%;z-index: 0;}#sk-container-id-1 div.sk-serial {display: flex;flex-direction: column;align-items: center;background-color: white;padding-right: 0.2em;padding-left: 0.2em;position: relative;}#sk-container-id-1 div.sk-item {position: relative;z-index: 1;}#sk-container-id-1 div.sk-parallel {display: flex;align-items: stretch;justify-content: center;background-color: white;position: relative;}#sk-container-id-1 div.sk-item::before, #sk-container-id-1 div.sk-parallel-item::before {content: \"\";position: absolute;border-left: 1px solid gray;box-sizing: border-box;top: 0;bottom: 0;left: 50%;z-index: -1;}#sk-container-id-1 div.sk-parallel-item {display: flex;flex-direction: column;z-index: 1;position: relative;background-color: white;}#sk-container-id-1 div.sk-parallel-item:first-child::after {align-self: flex-end;width: 50%;}#sk-container-id-1 div.sk-parallel-item:last-child::after {align-self: flex-start;width: 50%;}#sk-container-id-1 div.sk-parallel-item:only-child::after {width: 0;}#sk-container-id-1 div.sk-dashed-wrapped {border: 1px dashed gray;margin: 0 0.4em 0.5em 0.4em;box-sizing: border-box;padding-bottom: 0.4em;background-color: white;}#sk-container-id-1 div.sk-label label {font-family: monospace;font-weight: bold;display: inline-block;line-height: 1.2em;}#sk-container-id-1 div.sk-label-container {text-align: center;}#sk-container-id-1 div.sk-container {/* jupyter's `normalize.less` sets `[hidden] { display: none; }` but bootstrap.min.css set `[hidden] { display: none !important; }` so we also need the `!important` here to be able to override the default hidden behavior on the sphinx rendered scikit-learn.org. See: https://github.com/scikit-learn/scikit-learn/issues/21755 */display: inline-block !important;position: relative;}#sk-container-id-1 div.sk-text-repr-fallback {display: none;}</style><div id=\"sk-container-id-1\" class=\"sk-top-container\"><div class=\"sk-text-repr-fallback\"><pre>DecisionTreeClassifier(random_state=42)</pre><b>In a Jupyter environment, please rerun this cell to show the HTML representation or trust the notebook. <br />On GitHub, the HTML representation is unable to render, please try loading this page with nbviewer.org.</b></div><div class=\"sk-container\" hidden><div class=\"sk-item\"><div class=\"sk-estimator sk-toggleable\"><input class=\"sk-toggleable__control sk-hidden--visually\" id=\"sk-estimator-id-1\" type=\"checkbox\" checked><label for=\"sk-estimator-id-1\" class=\"sk-toggleable__label sk-toggleable__label-arrow\">DecisionTreeClassifier</label><div class=\"sk-toggleable__content\"><pre>DecisionTreeClassifier(random_state=42)</pre></div></div></div></div></div>"
      ],
      "text/plain": [
       "DecisionTreeClassifier(random_state=42)"
      ]
     },
     "execution_count": 2,
     "metadata": {},
     "output_type": "execute_result"
    }
   ],
   "source": [
    "from sklearn.tree import DecisionTreeClassifier\n",
    "from sklearn.model_selection import train_test_split\n",
    "\n",
    "# Separate features (X) and target label (y)\n",
    "X = df.drop('label', axis=1)  # Features\n",
    "y = df['label']  # Target label\n",
    "\n",
    "# 3. Split data for training and testing\n",
    "X_train, X_test, y_train, y_test = train_test_split(X, y, test_size=0.2, random_state=42)\n",
    "\n",
    "# 4. Create a decision tree classifier\n",
    "dtc = DecisionTreeClassifier(random_state=42)  # Set random_state for reproducibility\n",
    "\n",
    "# 5. Train the model on the training data\n",
    "dtc.fit(X_train, y_train)"
   ]
  },
  {
   "cell_type": "code",
   "execution_count": 3,
   "id": "727820fe",
   "metadata": {},
   "outputs": [
    {
     "name": "stdout",
     "output_type": "stream",
     "text": [
      "Accuracy: 0.9928\n",
      "AUC (Area Under ROC Curve): 0.9868004624102186\n",
      "F1-Score: 0.9959294436906377\n",
      "Precision: 0.9972826086956522\n",
      "Recall: 0.994579945799458\n"
     ]
    }
   ],
   "source": [
    "from sklearn.metrics import accuracy_score, roc_auc_score, f1_score, precision_score, recall_score\n",
    "from decimal import Decimal\n",
    "\n",
    "dtc.fit(X_train, y_train)\n",
    "\n",
    "# Make predictions on the testing set\n",
    "y_pred = dtc.predict(X_test)\n",
    "\n",
    "# Evaluate model performance\n",
    "accuracy = accuracy_score(y_test, y_pred)\n",
    "auc = roc_auc_score(y_test, y_pred)\n",
    "f1 = f1_score(y_test, y_pred)\n",
    "precision = precision_score(y_test, y_pred)\n",
    "recall = recall_score(y_test, y_pred)\n",
    "\n",
    "titles = [\"Algorithm\", \"Balance Strategy\", \"Parameters\", \"Accuracy\", \"AUC\", \"F1-Score\", \"Precision\", \"Recall\"]\n",
    "\n",
    "# Create the empty 2D list\n",
    "data = [[0, 0, 0, 0, 0, 0, 0, 0] for i in range(19)]\n",
    "data[0] = titles\n",
    "\n",
    "data[1][0] = \"DT\"\n",
    "data[1][1] = \"Unbalanced\"\n",
    "data[1][2] = \"--\"\n",
    "data[1][3] = accuracy\n",
    "data[1][4] = auc\n",
    "data[1][5] = f1\n",
    "data[1][6] = precision\n",
    "data[1][7] = recall\n",
    "\n",
    "# first row\n",
    "print(\"Accuracy:\", accuracy)\n",
    "print(\"AUC (Area Under ROC Curve):\", auc)\n",
    "print(\"F1-Score:\", f1)\n",
    "print(\"Precision:\", precision)\n",
    "print(\"Recall:\", recall)"
   ]
  },
  {
   "cell_type": "code",
   "execution_count": 4,
   "id": "91f041f6",
   "metadata": {},
   "outputs": [
    {
     "name": "stdout",
     "output_type": "stream",
     "text": [
      "\n",
      "Evaluation metrics with ROS applied:\n",
      "Accuracy: 0.9969053934571176\n",
      "AUC (Area Under ROC Curve): 0.9969405594405594\n",
      "F1-Score: 0.9969311705392372\n",
      "Precision: 1.0\n",
      "Recall: 0.9938811188811189\n"
     ]
    }
   ],
   "source": [
    "from imblearn.over_sampling import RandomOverSampler\n",
    "import matplotlib.pyplot as plt\n",
    "from sklearn import tree\n",
    "\n",
    "# Apply ROS\n",
    "ros = RandomOverSampler(random_state=42)\n",
    "X_resampled, y_resampled = ros.fit_resample(X, y)\n",
    "\n",
    "\n",
    "X_train, X_test, y_train, y_test = train_test_split(X_resampled, y_resampled, test_size=0.2, random_state=42)\n",
    "\n",
    "\n",
    "dtc = DecisionTreeClassifier(random_state=42)\n",
    "dtc.fit(X_train, y_train)\n",
    "\n",
    "\n",
    "y_pred = dtc.predict(X_test)\n",
    "\n",
    "# Evaluate model performance (same as before)\n",
    "accuracy = accuracy_score(y_test, y_pred)\n",
    "auc = roc_auc_score(y_test, y_pred)\n",
    "f1 = f1_score(y_test, y_pred)\n",
    "precision = precision_score(y_test, y_pred)\n",
    "recall = recall_score(y_test, y_pred)\n",
    "\n",
    "#plt.figure(figsize=(8, 6))\n",
    "#tree.plot_tree(dtc,\n",
    "#               feature_names=df.columns,\n",
    "#               class_names=[0,1],\n",
    "#               filled=True,\n",
    "#               rounded=True)\n",
    "#               #boxstyle=\"box\"\n",
    "#              \n",
    "#plt.title(\"Decision Tree for Malware Classification\")\n",
    "#plt.show()\n",
    "\n",
    "data[2][0] = \"DT\"\n",
    "data[2][1] = \"ROS\"\n",
    "data[2][2] = \"--\"\n",
    "data[2][3] = accuracy\n",
    "data[2][4] = auc\n",
    "data[2][5] = f1\n",
    "data[2][6] = precision\n",
    "data[2][7] = recall\n",
    "\n",
    "# second row\n",
    "print(\"\\nEvaluation metrics with ROS applied:\")\n",
    "print(\"Accuracy:\", accuracy)\n",
    "print(\"AUC (Area Under ROC Curve):\", auc)\n",
    "print(\"F1-Score:\", f1)\n",
    "print(\"Precision:\", precision)\n",
    "print(\"Recall:\", recall)"
   ]
  },
  {
   "cell_type": "code",
   "execution_count": 5,
   "id": "fb723480",
   "metadata": {},
   "outputs": [
    {
     "name": "stdout",
     "output_type": "stream",
     "text": [
      "\n",
      "Evaluation metrics with SMOTE applied:\n",
      "Accuracy: 0.9946949602122016\n",
      "AUC (Area Under ROC Curve): 0.9947349162465442\n",
      "F1-Score: 0.9947368421052631\n",
      "Precision: 0.9982394366197183\n",
      "Recall: 0.9912587412587412\n"
     ]
    }
   ],
   "source": [
    "from imblearn.over_sampling import SMOTE\n",
    "\n",
    "smote = SMOTE(random_state=42)\n",
    "X_resampled, y_resampled = smote.fit_resample(X, y)\n",
    "\n",
    "\n",
    "X_train, X_test, y_train, y_test = train_test_split(X_resampled, y_resampled, test_size=0.2, random_state=42)\n",
    "\n",
    "\n",
    "dtc = DecisionTreeClassifier(random_state=42)\n",
    "dtc.fit(X_train, y_train)\n",
    "\n",
    "\n",
    "y_pred = dtc.predict(X_test)\n",
    "\n",
    "\n",
    "accuracy = accuracy_score(y_test, y_pred)\n",
    "auc = roc_auc_score(y_test, y_pred)\n",
    "f1 = f1_score(y_test, y_pred)\n",
    "precision = precision_score(y_test, y_pred)\n",
    "recall = recall_score(y_test, y_pred)\n",
    "\n",
    "data[3][0] = \"DT\"\n",
    "data[3][1] = \"SMOTE\"\n",
    "data[3][2] = \"--\"\n",
    "data[3][3] = accuracy\n",
    "data[3][4] = auc\n",
    "data[3][5] = f1\n",
    "data[3][6] = precision\n",
    "data[3][7] = recall\n",
    "\n",
    "# third row\n",
    "print(\"\\nEvaluation metrics with SMOTE applied:\")\n",
    "print(\"Accuracy:\", accuracy)\n",
    "print(\"AUC (Area Under ROC Curve):\", auc)\n",
    "print(\"F1-Score:\", f1)\n",
    "print(\"Precision:\", precision)\n",
    "print(\"Recall:\", recall)"
   ]
  },
  {
   "cell_type": "code",
   "execution_count": 6,
   "id": "3ef72327",
   "metadata": {},
   "outputs": [
    {
     "name": "stdout",
     "output_type": "stream",
     "text": [
      "Evaluation metrics with Random Forest (10 trees):\n",
      "Accuracy: 0.9976\n",
      "AUC (Area Under ROC Curve): 0.9895104895104896\n",
      "F1-Score: 0.9986468200270636\n",
      "Precision: 0.9972972972972973\n",
      "Recall: 1.0\n"
     ]
    }
   ],
   "source": [
    "from sklearn.ensemble import RandomForestClassifier\n",
    "\n",
    "X_train, X_test, y_train, y_test = train_test_split(X, y, test_size=0.2, random_state=42)\n",
    "rf = RandomForestClassifier(n_estimators=10, random_state=42)\n",
    "rf.fit(X_train, y_train)\n",
    "\n",
    "\n",
    "y_pred = rf.predict(X_test)\n",
    "\n",
    "\n",
    "accuracy = accuracy_score(y_test, y_pred)\n",
    "auc = roc_auc_score(y_test, y_pred)\n",
    "f1 = f1_score(y_test, y_pred)\n",
    "precision = precision_score(y_test, y_pred)\n",
    "recall = recall_score(y_test, y_pred)\n",
    "\n",
    "data[4][0] = \"RF\"\n",
    "data[4][1] = \"Unbalanced\"\n",
    "data[4][2] = \"10 trees\"\n",
    "data[4][3] = accuracy\n",
    "data[4][4] = auc\n",
    "data[4][5] = f1\n",
    "data[4][6] = precision\n",
    "data[4][7] = recall\n",
    "\n",
    "# fourth row\n",
    "print(\"Evaluation metrics with Random Forest (10 trees):\")\n",
    "print(\"Accuracy:\", accuracy)\n",
    "print(\"AUC (Area Under ROC Curve):\", auc)\n",
    "print(\"F1-Score:\", f1)\n",
    "print(\"Precision:\", precision)\n",
    "print(\"Recall:\", recall)"
   ]
  },
  {
   "cell_type": "code",
   "execution_count": 7,
   "id": "398526c6",
   "metadata": {},
   "outputs": [
    {
     "name": "stdout",
     "output_type": "stream",
     "text": [
      "Evaluation metrics with Random Forest (5 trees):\n",
      "Accuracy: 0.9960212201591512\n",
      "AUC (Area Under ROC Curve): 0.996015612294682\n",
      "F1-Score: 0.9960681520314548\n",
      "Precision: 0.9956331877729258\n",
      "Recall: 0.9965034965034965\n"
     ]
    }
   ],
   "source": [
    "smote = SMOTE(random_state=42)\n",
    "X_resampled, y_resampled = smote.fit_resample(X, y)\n",
    "\n",
    "\n",
    "X_train, X_test, y_train, y_test = train_test_split(X_resampled, y_resampled, test_size=0.2, random_state=42)\n",
    "\n",
    "rf = RandomForestClassifier(n_estimators=5, random_state=42)\n",
    "rf.fit(X_train, y_train)\n",
    "\n",
    "\n",
    "y_pred = rf.predict(X_test)\n",
    "\n",
    "\n",
    "accuracy = accuracy_score(y_test, y_pred)\n",
    "auc = roc_auc_score(y_test, y_pred)\n",
    "f1 = f1_score(y_test, y_pred)\n",
    "precision = precision_score(y_test, y_pred)\n",
    "recall = recall_score(y_test, y_pred)\n",
    "\n",
    "data[5][0] = \"RF\"\n",
    "data[5][1] = \"SMOTE\"\n",
    "data[5][2] = \"5 trees\"\n",
    "data[5][3] = accuracy\n",
    "data[5][4] = auc\n",
    "data[5][5] = f1\n",
    "data[5][6] = precision\n",
    "data[5][7] = recall\n",
    "\n",
    "# fifth row\n",
    "print(\"Evaluation metrics with Random Forest (5 trees):\")\n",
    "print(\"Accuracy:\", accuracy)\n",
    "print(\"AUC (Area Under ROC Curve):\", auc)\n",
    "print(\"F1-Score:\", f1)\n",
    "print(\"Precision:\", precision)\n",
    "print(\"Recall:\", recall)"
   ]
  },
  {
   "cell_type": "code",
   "execution_count": 8,
   "id": "e8868521",
   "metadata": {},
   "outputs": [
    {
     "name": "stdout",
     "output_type": "stream",
     "text": [
      "Evaluation metrics with Random Forest (10 trees):\n",
      "Accuracy: 0.9973474801061007\n",
      "AUC (Area Under ROC Curve): 0.9973471296145716\n",
      "F1-Score: 0.9973776223776224\n",
      "Precision: 0.9973776223776224\n",
      "Recall: 0.9973776223776224\n"
     ]
    }
   ],
   "source": [
    "rf = RandomForestClassifier(n_estimators=10, random_state=42)\n",
    "rf.fit(X_train, y_train)\n",
    "\n",
    "\n",
    "y_pred = rf.predict(X_test)\n",
    "\n",
    "\n",
    "accuracy = accuracy_score(y_test, y_pred)\n",
    "auc = roc_auc_score(y_test, y_pred)\n",
    "f1 = f1_score(y_test, y_pred)\n",
    "precision = precision_score(y_test, y_pred)\n",
    "recall = recall_score(y_test, y_pred)\n",
    "\n",
    "data[6][0] = \"RF\"\n",
    "data[6][1] = \"SMOTE\"\n",
    "data[6][2] = \"10 trees\"\n",
    "data[6][3] = accuracy\n",
    "data[6][4] = auc\n",
    "data[6][5] = f1\n",
    "data[6][6] = precision\n",
    "data[6][7] = recall\n",
    "\n",
    "# sixth row\n",
    "print(\"Evaluation metrics with Random Forest (10 trees):\")\n",
    "print(\"Accuracy:\", accuracy)\n",
    "print(\"AUC (Area Under ROC Curve):\", auc)\n",
    "print(\"F1-Score:\", f1)\n",
    "print(\"Precision:\", precision)\n",
    "print(\"Recall:\", recall)"
   ]
  },
  {
   "cell_type": "code",
   "execution_count": 9,
   "id": "e34f10eb",
   "metadata": {},
   "outputs": [
    {
     "name": "stdout",
     "output_type": "stream",
     "text": [
      "Evaluation metrics with Random Forest (20 trees):\n",
      "Accuracy: 0.997789566755084\n",
      "AUC (Area Under ROC Curve): 0.9978045210603351\n",
      "F1-Score: 0.9978118161925602\n",
      "Precision: 0.9991235758106923\n",
      "Recall: 0.9965034965034965\n"
     ]
    }
   ],
   "source": [
    "rf = RandomForestClassifier(n_estimators=20, random_state=42)\n",
    "rf.fit(X_train, y_train)\n",
    "\n",
    "\n",
    "y_pred = rf.predict(X_test)\n",
    "\n",
    "\n",
    "accuracy = accuracy_score(y_test, y_pred)\n",
    "auc = roc_auc_score(y_test, y_pred)\n",
    "f1 = f1_score(y_test, y_pred)\n",
    "precision = precision_score(y_test, y_pred)\n",
    "recall = recall_score(y_test, y_pred)\n",
    "\n",
    "data[7][0] = \"RF\"\n",
    "data[7][1] = \"SMOTE\"\n",
    "data[7][2] = \"20 trees\"\n",
    "data[7][3] = accuracy\n",
    "data[7][4] = auc\n",
    "data[7][5] = f1\n",
    "data[7][6] = precision\n",
    "data[7][7] = recall\n",
    "\n",
    "# seventh row\n",
    "print(\"Evaluation metrics with Random Forest (20 trees):\")\n",
    "print(\"Accuracy:\", accuracy)\n",
    "print(\"AUC (Area Under ROC Curve):\", auc)\n",
    "print(\"F1-Score:\", f1)\n",
    "print(\"Precision:\", precision)\n",
    "print(\"Recall:\", recall)"
   ]
  },
  {
   "cell_type": "code",
   "execution_count": 10,
   "id": "34c370db",
   "metadata": {},
   "outputs": [
    {
     "name": "stdout",
     "output_type": "stream",
     "text": [
      "Evaluation metrics with Random Forest (10 trees, 5 random features):\n",
      "Accuracy: 0.9942528735632183\n",
      "AUC (Area Under ROC Curve): 0.9943080175638317\n",
      "F1-Score: 0.9942907334211682\n",
      "Precision: 0.999117387466902\n",
      "Recall: 0.9895104895104895\n"
     ]
    }
   ],
   "source": [
    "# Random Forest with 10 trees and 5 random features\n",
    "rf = RandomForestClassifier(n_estimators=10, max_features=5, random_state=42)\n",
    "rf.fit(X_train, y_train)\n",
    "\n",
    "\n",
    "y_pred = rf.predict(X_test)\n",
    "\n",
    "accuracy = accuracy_score(y_test, y_pred)\n",
    "auc = roc_auc_score(y_test, y_pred)\n",
    "f1 = f1_score(y_test, y_pred)\n",
    "precision = precision_score(y_test, y_pred)\n",
    "recall = recall_score(y_test, y_pred)\n",
    "\n",
    "data[8][0] = \"RF\"\n",
    "data[8][1] = \"SMOTE\"\n",
    "data[8][2] = \"10 trees, 5 features\"\n",
    "data[8][3] = accuracy\n",
    "data[8][4] = auc\n",
    "data[8][5] = f1\n",
    "data[8][6] = precision\n",
    "data[8][7] = recall\n",
    "\n",
    "# eighth row\n",
    "print(\"Evaluation metrics with Random Forest (10 trees, 5 random features):\")\n",
    "print(\"Accuracy:\", accuracy)\n",
    "print(\"AUC (Area Under ROC Curve):\", auc)\n",
    "print(\"F1-Score:\", f1)\n",
    "print(\"Precision:\", precision)\n",
    "print(\"Recall:\", recall)"
   ]
  },
  {
   "cell_type": "code",
   "execution_count": 11,
   "id": "79f5cd76",
   "metadata": {},
   "outputs": [
    {
     "name": "stdout",
     "output_type": "stream",
     "text": [
      "Evaluation metrics with Random Forest (10 trees, 10 random features):\n",
      "Accuracy: 0.9942528735632183\n",
      "AUC (Area Under ROC Curve): 0.9942775248007806\n",
      "F1-Score: 0.9943057380639508\n",
      "Precision: 0.9964881474978051\n",
      "Recall: 0.9921328671328671\n"
     ]
    }
   ],
   "source": [
    "rf = RandomForestClassifier(n_estimators=10, max_features=10, random_state=42)\n",
    "rf.fit(X_train, y_train)\n",
    "\n",
    "y_pred = rf.predict(X_test)\n",
    "\n",
    "accuracy = accuracy_score(y_test, y_pred)\n",
    "auc = roc_auc_score(y_test, y_pred)\n",
    "f1 = f1_score(y_test, y_pred)\n",
    "precision = precision_score(y_test, y_pred)\n",
    "recall = recall_score(y_test, y_pred)\n",
    "\n",
    "data[9][0] = \"RF\"\n",
    "data[9][1] = \"SMOTE\"\n",
    "data[9][2] = \"10 trees, 10 features\"\n",
    "data[9][3] = accuracy\n",
    "data[9][4] = auc\n",
    "data[9][5] = f1\n",
    "data[9][6] = precision\n",
    "data[9][7] = recall\n",
    "\n",
    "# ninth row\n",
    "print(\"Evaluation metrics with Random Forest (10 trees, 10 random features):\")\n",
    "print(\"Accuracy:\", accuracy)\n",
    "print(\"AUC (Area Under ROC Curve):\", auc)\n",
    "print(\"F1-Score:\", f1)\n",
    "print(\"Precision:\", precision)\n",
    "print(\"Recall:\", recall)"
   ]
  },
  {
   "cell_type": "code",
   "execution_count": 12,
   "id": "41fc8824",
   "metadata": {},
   "outputs": [
    {
     "name": "stdout",
     "output_type": "stream",
     "text": [
      "Evaluation metrics with Random Forest (10 trees, 20 random features):\n",
      "Accuracy: 0.9964633068081344\n",
      "AUC (Area Under ROC Curve): 0.9964933322491462\n",
      "F1-Score: 0.9964943032427696\n",
      "Precision: 0.9991212653778558\n",
      "Recall: 0.9938811188811189\n"
     ]
    }
   ],
   "source": [
    "rf = RandomForestClassifier(n_estimators=10, max_features=20, random_state=42)\n",
    "rf.fit(X_train, y_train)\n",
    "\n",
    "y_pred = rf.predict(X_test)\n",
    "\n",
    "accuracy = accuracy_score(y_test, y_pred)\n",
    "auc = roc_auc_score(y_test, y_pred)\n",
    "f1 = f1_score(y_test, y_pred)\n",
    "precision = precision_score(y_test, y_pred)\n",
    "recall = recall_score(y_test, y_pred)\n",
    "\n",
    "data[10][0] = \"RF\"\n",
    "data[10][1] = \"SMOTE\"\n",
    "data[10][2] = \"10 trees, 20 features\"\n",
    "data[10][3] = accuracy\n",
    "data[10][4] = auc\n",
    "data[10][5] = f1\n",
    "data[10][6] = precision\n",
    "data[10][7] = recall\n",
    "\n",
    "# tenth row\n",
    "print(\"Evaluation metrics with Random Forest (10 trees, 20 random features):\")\n",
    "print(\"Accuracy:\", accuracy)\n",
    "print(\"AUC (Area Under ROC Curve):\", auc)\n",
    "print(\"F1-Score:\", f1)\n",
    "print(\"Precision:\", precision)\n",
    "print(\"Recall:\", recall)"
   ]
  },
  {
   "cell_type": "code",
   "execution_count": 13,
   "id": "8ce9fd8e",
   "metadata": {},
   "outputs": [
    {
     "name": "stdout",
     "output_type": "stream",
     "text": [
      "Evaluation metrics with Random Forest (10 trees, 40 random features):\n",
      "Accuracy: 0.9973474801061007\n",
      "AUC (Area Under ROC Curve): 0.9973471296145716\n",
      "F1-Score: 0.9973776223776224\n",
      "Precision: 0.9973776223776224\n",
      "Recall: 0.9973776223776224\n"
     ]
    }
   ],
   "source": [
    "rf = RandomForestClassifier(n_estimators=10, max_features=40, random_state=42)\n",
    "rf.fit(X_train, y_train)\n",
    "\n",
    "y_pred = rf.predict(X_test)\n",
    "\n",
    "accuracy = accuracy_score(y_test, y_pred)\n",
    "auc = roc_auc_score(y_test, y_pred)\n",
    "f1 = f1_score(y_test, y_pred)\n",
    "precision = precision_score(y_test, y_pred)\n",
    "recall = recall_score(y_test, y_pred)\n",
    "\n",
    "data[11][0] = \"RF\"\n",
    "data[11][1] = \"SMOTE\"\n",
    "data[11][2] = \"10 trees, 40 features\"\n",
    "data[11][3] = accuracy\n",
    "data[11][4] = auc\n",
    "data[11][5] = f1\n",
    "data[11][6] = precision\n",
    "data[11][7] = recall\n",
    "\n",
    "# eleventh row\n",
    "print(\"Evaluation metrics with Random Forest (10 trees, 40 random features):\")\n",
    "print(\"Accuracy:\", accuracy)\n",
    "print(\"AUC (Area Under ROC Curve):\", auc)\n",
    "print(\"F1-Score:\", f1)\n",
    "print(\"Precision:\", precision)\n",
    "print(\"Recall:\", recall)"
   ]
  },
  {
   "cell_type": "code",
   "execution_count": 14,
   "id": "7177a5c6",
   "metadata": {},
   "outputs": [
    {
     "name": "stdout",
     "output_type": "stream",
     "text": [
      "Evaluation metrics with Random Forest (10 trees, 100 random features):\n",
      "Accuracy: 0.9973474801061007\n",
      "AUC (Area Under ROC Curve): 0.9973674581232721\n",
      "F1-Score: 0.9973730297723291\n",
      "Precision: 0.9991228070175439\n",
      "Recall: 0.9956293706293706\n"
     ]
    }
   ],
   "source": [
    "rf = RandomForestClassifier(n_estimators=10, max_features=100, random_state=42)\n",
    "rf.fit(X_train, y_train)\n",
    "\n",
    "y_pred = rf.predict(X_test)\n",
    "\n",
    "accuracy = accuracy_score(y_test, y_pred)\n",
    "auc = roc_auc_score(y_test, y_pred)\n",
    "f1 = f1_score(y_test, y_pred)\n",
    "precision = precision_score(y_test, y_pred)\n",
    "recall = recall_score(y_test, y_pred)\n",
    "\n",
    "data[12][0] = \"RF\"\n",
    "data[12][1] = \"SMOTE\"\n",
    "data[12][2] = \"10 trees, 100 features\"\n",
    "data[12][3] = accuracy\n",
    "data[12][4] = auc\n",
    "data[12][5] = f1\n",
    "data[12][6] = precision\n",
    "data[12][7] = recall\n",
    "\n",
    "# twelveth row\n",
    "print(\"Evaluation metrics with Random Forest (10 trees, 100 random features):\")\n",
    "print(\"Accuracy:\", accuracy)\n",
    "print(\"AUC (Area Under ROC Curve):\", auc)\n",
    "print(\"F1-Score:\", f1)\n",
    "print(\"Precision:\", precision)\n",
    "print(\"Recall:\", recall)"
   ]
  },
  {
   "cell_type": "code",
   "execution_count": 15,
   "id": "5b4be5ec",
   "metadata": {},
   "outputs": [
    {
     "name": "stdout",
     "output_type": "stream",
     "text": [
      "Evaluation metrics with kNN:\n",
      "Accuracy: 0.9744\n",
      "AUC (Area Under ROC Curve): 0.9185602112431381\n",
      "F1-Score: 0.9856244384546272\n",
      "Precision: 0.9803395889186773\n",
      "Recall: 0.99096657633243\n"
     ]
    }
   ],
   "source": [
    "from sklearn.neighbors import KNeighborsClassifier\n",
    "\n",
    "X_train, X_test, y_train, y_test = train_test_split(X, y, test_size=0.2, random_state=42)\n",
    "\n",
    "# Create and train a kNN model\n",
    "knn = KNeighborsClassifier(n_neighbors=5, metric='euclidean', algorithm='auto') \n",
    "knn.fit(X_train, y_train)\n",
    "\n",
    "y_pred = knn.predict(X_test)\n",
    "\n",
    "accuracy = accuracy_score(y_test, y_pred)\n",
    "auc = roc_auc_score(y_test, y_pred)\n",
    "f1 = f1_score(y_test, y_pred)\n",
    "precision = precision_score(y_test, y_pred)\n",
    "recall = recall_score(y_test, y_pred)\n",
    "\n",
    "data[13][0] = \"kNN\"\n",
    "data[13][1] = \"Unbalanced\"\n",
    "data[13][2] = \"--\"\n",
    "data[13][3] = accuracy\n",
    "data[13][4] = auc\n",
    "data[13][5] = f1\n",
    "data[13][6] = precision\n",
    "data[13][7] = recall\n",
    "\n",
    "# thirteenth row\n",
    "print(\"Evaluation metrics with kNN:\")\n",
    "print(\"Accuracy:\", accuracy)\n",
    "print(\"AUC (Area Under ROC Curve):\", auc)\n",
    "print(\"F1-Score:\", f1)\n",
    "print(\"Precision:\", precision)\n",
    "print(\"Recall:\", recall)"
   ]
  },
  {
   "cell_type": "code",
   "execution_count": 16,
   "id": "ffe3d1ca",
   "metadata": {},
   "outputs": [
    {
     "name": "stdout",
     "output_type": "stream",
     "text": [
      "Evaluation metrics with kNN:\n",
      "Accuracy: 0.9827586206896551\n",
      "AUC (Area Under ROC Curve): 0.9828325744023418\n",
      "F1-Score: 0.9828420589529256\n",
      "Precision: 0.9893711248892826\n",
      "Recall: 0.9763986013986014\n"
     ]
    }
   ],
   "source": [
    "smote = SMOTE(random_state=42)\n",
    "X_resampled, y_resampled = smote.fit_resample(X, y)\n",
    "\n",
    "X_train, X_test, y_train, y_test = train_test_split(X_resampled, y_resampled, test_size=0.2, random_state=42)\n",
    "\n",
    "knn = KNeighborsClassifier(n_neighbors=5, metric='euclidean', algorithm='auto') \n",
    "knn.fit(X_train, y_train)\n",
    "\n",
    "y_pred = knn.predict(X_test)\n",
    "\n",
    "accuracy = accuracy_score(y_test, y_pred)\n",
    "auc = roc_auc_score(y_test, y_pred)\n",
    "f1 = f1_score(y_test, y_pred)\n",
    "precision = precision_score(y_test, y_pred)\n",
    "recall = recall_score(y_test, y_pred)\n",
    "\n",
    "data[14][0] = \"kNN\"\n",
    "data[14][1] = \"SMOTE\"\n",
    "data[14][2] = \"k = 5\"\n",
    "data[14][3] = accuracy\n",
    "data[14][4] = auc\n",
    "data[14][5] = f1\n",
    "data[14][6] = precision\n",
    "data[14][7] = recall\n",
    "\n",
    "# fouteenth row\n",
    "print(\"Evaluation metrics with kNN:\")\n",
    "print(\"Accuracy:\", accuracy)\n",
    "print(\"AUC (Area Under ROC Curve):\", auc)\n",
    "print(\"F1-Score:\", f1)\n",
    "print(\"Precision:\", precision)\n",
    "print(\"Recall:\", recall)"
   ]
  },
  {
   "cell_type": "code",
   "execution_count": 17,
   "id": "a8793893",
   "metadata": {},
   "outputs": [
    {
     "name": "stdout",
     "output_type": "stream",
     "text": [
      "Evaluation metrics with kNN:\n",
      "Accuracy: 0.9942528735632183\n",
      "AUC (Area Under ROC Curve): 0.9942673605464303\n",
      "F1-Score: 0.9943107221006565\n",
      "Precision: 0.9956178790534619\n",
      "Recall: 0.993006993006993\n"
     ]
    }
   ],
   "source": [
    "knn = KNeighborsClassifier(n_neighbors=1, metric='euclidean', algorithm='auto') \n",
    "knn.fit(X_train, y_train)\n",
    "\n",
    "y_pred = knn.predict(X_test)\n",
    "\n",
    "accuracy = accuracy_score(y_test, y_pred)\n",
    "auc = roc_auc_score(y_test, y_pred)\n",
    "f1 = f1_score(y_test, y_pred)\n",
    "precision = precision_score(y_test, y_pred)\n",
    "recall = recall_score(y_test, y_pred)\n",
    "\n",
    "data[15][0] = \"kNN\"\n",
    "data[15][1] = \"SMOTE\"\n",
    "data[15][2] = \"k = 1\"\n",
    "data[15][3] = accuracy\n",
    "data[15][4] = auc\n",
    "data[15][5] = f1\n",
    "data[15][6] = precision\n",
    "data[15][7] = recall\n",
    "\n",
    "# fifteenth row\n",
    "print(\"Evaluation metrics with kNN:\")\n",
    "print(\"Accuracy:\", accuracy)\n",
    "print(\"AUC (Area Under ROC Curve):\", auc)\n",
    "print(\"F1-Score:\", f1)\n",
    "print(\"Precision:\", precision)\n",
    "print(\"Recall:\", recall)"
   ]
  },
  {
   "cell_type": "code",
   "execution_count": 18,
   "id": "522218a2",
   "metadata": {},
   "outputs": [
    {
     "name": "stdout",
     "output_type": "stream",
     "text": [
      "Evaluation metrics with kNN:\n",
      "Accuracy: 0.9907161803713528\n",
      "AUC (Area Under ROC Curve): 0.990740364286876\n",
      "F1-Score: 0.9908015768725361\n",
      "Precision: 0.9929762949956101\n",
      "Recall: 0.9886363636363636\n"
     ]
    }
   ],
   "source": [
    "knn = KNeighborsClassifier(n_neighbors=3, metric='euclidean', algorithm='auto') \n",
    "knn.fit(X_train, y_train)\n",
    "\n",
    "y_pred = knn.predict(X_test)\n",
    "\n",
    "accuracy = accuracy_score(y_test, y_pred)\n",
    "auc = roc_auc_score(y_test, y_pred)\n",
    "f1 = f1_score(y_test, y_pred)\n",
    "precision = precision_score(y_test, y_pred)\n",
    "recall = recall_score(y_test, y_pred)\n",
    "\n",
    "data[16][0] = \"kNN\"\n",
    "data[16][1] = \"SMOTE\"\n",
    "data[16][2] = \"k = 3\"\n",
    "data[16][3] = accuracy\n",
    "data[16][4] = auc\n",
    "data[16][5] = f1\n",
    "data[16][6] = precision\n",
    "data[16][7] = recall\n",
    "\n",
    "# sixteenth row\n",
    "print(\"Evaluation metrics with kNN:\")\n",
    "print(\"Accuracy:\", accuracy)\n",
    "print(\"AUC (Area Under ROC Curve):\", auc)\n",
    "print(\"F1-Score:\", f1)\n",
    "print(\"Precision:\", precision)\n",
    "print(\"Recall:\", recall)"
   ]
  },
  {
   "cell_type": "code",
   "execution_count": 19,
   "id": "509e17fa",
   "metadata": {},
   "outputs": [
    {
     "name": "stdout",
     "output_type": "stream",
     "text": [
      "Evaluation metrics with kNN:\n",
      "Accuracy: 0.9721485411140584\n",
      "AUC (Area Under ROC Curve): 0.9723938851845828\n",
      "F1-Score: 0.9718624385886556\n",
      "Precision: 0.993607305936073\n",
      "Recall: 0.951048951048951\n"
     ]
    }
   ],
   "source": [
    "knn = KNeighborsClassifier(n_neighbors=10, metric='euclidean', algorithm='auto') \n",
    "knn.fit(X_train, y_train)\n",
    "\n",
    "y_pred = knn.predict(X_test)\n",
    "\n",
    "accuracy = accuracy_score(y_test, y_pred)\n",
    "auc = roc_auc_score(y_test, y_pred)\n",
    "f1 = f1_score(y_test, y_pred)\n",
    "precision = precision_score(y_test, y_pred)\n",
    "recall = recall_score(y_test, y_pred)\n",
    "\n",
    "data[17][0] = \"kNN\"\n",
    "data[17][1] = \"SMOTE\"\n",
    "data[17][2] = \"k = 10\"\n",
    "data[17][3] = accuracy\n",
    "data[17][4] = auc\n",
    "data[17][5] = f1\n",
    "data[17][6] = precision\n",
    "data[17][7] = recall\n",
    "\n",
    "# seventeenth row\n",
    "print(\"Evaluation metrics with kNN:\")\n",
    "print(\"Accuracy:\", accuracy)\n",
    "print(\"AUC (Area Under ROC Curve):\", auc)\n",
    "print(\"F1-Score:\", f1)\n",
    "print(\"Precision:\", precision)\n",
    "print(\"Recall:\", recall)"
   ]
  },
  {
   "cell_type": "code",
   "execution_count": 20,
   "id": "527518da",
   "metadata": {},
   "outputs": [
    {
     "name": "stdout",
     "output_type": "stream",
     "text": [
      "Evaluation metrics with kNN:\n",
      "Accuracy: 0.9615384615384616\n",
      "AUC (Area Under ROC Curve): 0.961894210440722\n",
      "F1-Score: 0.9607577807848444\n",
      "Precision: 0.9925442684063374\n",
      "Recall: 0.9309440559440559\n"
     ]
    }
   ],
   "source": [
    "knn = KNeighborsClassifier(n_neighbors=20, metric='euclidean', algorithm='auto') \n",
    "knn.fit(X_train, y_train)\n",
    "\n",
    "y_pred = knn.predict(X_test)\n",
    "\n",
    "accuracy = accuracy_score(y_test, y_pred)\n",
    "auc = roc_auc_score(y_test, y_pred)\n",
    "f1 = f1_score(y_test, y_pred)\n",
    "precision = precision_score(y_test, y_pred)\n",
    "recall = recall_score(y_test, y_pred)\n",
    "\n",
    "data[18][0] = \"kNN\"\n",
    "data[18][1] = \"SMOTE\"\n",
    "data[18][2] = \"k = 20\"\n",
    "data[18][3] = accuracy\n",
    "data[18][4] = auc\n",
    "data[18][5] = f1\n",
    "data[18][6] = precision\n",
    "data[18][7] = recall\n",
    "\n",
    "# eigteenth row\n",
    "print(\"Evaluation metrics with kNN:\")\n",
    "print(\"Accuracy:\", accuracy)\n",
    "print(\"AUC (Area Under ROC Curve):\", auc)\n",
    "print(\"F1-Score:\", f1)\n",
    "print(\"Precision:\", precision)\n",
    "print(\"Recall:\", recall)"
   ]
  },
  {
   "cell_type": "code",
   "execution_count": 21,
   "id": "8c5d6b7c",
   "metadata": {},
   "outputs": [
    {
     "name": "stdout",
     "output_type": "stream",
     "text": [
      "---------  ----------------  ----------------------  ------------------  ------------------  ------------------  ------------------  ------------------\n",
      "Algorithm  Balance Strategy  Parameters              Accuracy            AUC                 F1-Score            Precision           Recall\n",
      "DT         Unbalanced        --                      0.9928              0.9868004624102186  0.9959294436906377  0.9972826086956522  0.994579945799458\n",
      "DT         ROS               --                      0.9969053934571176  0.9969405594405594  0.9969311705392372  1.0                 0.9938811188811189\n",
      "DT         SMOTE             --                      0.9946949602122016  0.9947349162465442  0.9947368421052631  0.9982394366197183  0.9912587412587412\n",
      "RF         Unbalanced        10 trees                0.9976              0.9895104895104896  0.9986468200270636  0.9972972972972973  1.0\n",
      "RF         SMOTE             5 trees                 0.9960212201591512  0.996015612294682   0.9960681520314548  0.9956331877729258  0.9965034965034965\n",
      "RF         SMOTE             10 trees                0.9973474801061007  0.9973471296145716  0.9973776223776224  0.9973776223776224  0.9973776223776224\n",
      "RF         SMOTE             20 trees                0.997789566755084   0.9978045210603351  0.9978118161925602  0.9991235758106923  0.9965034965034965\n",
      "RF         SMOTE             10 trees, 5 features    0.9942528735632183  0.9943080175638317  0.9942907334211682  0.999117387466902   0.9895104895104895\n",
      "RF         SMOTE             10 trees, 10 features   0.9942528735632183  0.9942775248007806  0.9943057380639508  0.9964881474978051  0.9921328671328671\n",
      "RF         SMOTE             10 trees, 20 features   0.9964633068081344  0.9964933322491462  0.9964943032427696  0.9991212653778558  0.9938811188811189\n",
      "RF         SMOTE             10 trees, 40 features   0.9973474801061007  0.9973471296145716  0.9973776223776224  0.9973776223776224  0.9973776223776224\n",
      "RF         SMOTE             10 trees, 100 features  0.9973474801061007  0.9973674581232721  0.9973730297723291  0.9991228070175439  0.9956293706293706\n",
      "kNN        Unbalanced        --                      0.9744              0.9185602112431381  0.9856244384546272  0.9803395889186773  0.99096657633243\n",
      "kNN        SMOTE             k = 5                   0.9827586206896551  0.9828325744023418  0.9828420589529256  0.9893711248892826  0.9763986013986014\n",
      "kNN        SMOTE             k = 1                   0.9942528735632183  0.9942673605464303  0.9943107221006565  0.9956178790534619  0.993006993006993\n",
      "kNN        SMOTE             k = 3                   0.9907161803713528  0.990740364286876   0.9908015768725361  0.9929762949956101  0.9886363636363636\n",
      "kNN        SMOTE             k = 10                  0.9721485411140584  0.9723938851845828  0.9718624385886556  0.993607305936073   0.951048951048951\n",
      "kNN        SMOTE             k = 20                  0.9615384615384616  0.961894210440722   0.9607577807848444  0.9925442684063374  0.9309440559440559\n",
      "---------  ----------------  ----------------------  ------------------  ------------------  ------------------  ------------------  ------------------\n"
     ]
    }
   ],
   "source": [
    "from tabulate import tabulate\n",
    "print(tabulate(data))"
   ]
  },
  {
   "cell_type": "code",
   "execution_count": 22,
   "id": "20260b5c",
   "metadata": {},
   "outputs": [
    {
     "data": {
      "image/png": "[encoded data removed]",
      "text/plain": [
       "<Figure size 600x600 with 1 Axes>"
      ]
     },
     "metadata": {},
     "output_type": "display_data"
    }
   ],
   "source": [
    "import matplotlib.pyplot as plt\n",
    "\n",
    "# Replace class labels with descriptive names\n",
    "df['label_name'] = y.replace({0: 'Benign', 1: 'Malware'})\n",
    "\n",
    "# Calculate class distribution\n",
    "class_counts = df['label_name'].value_counts()\n",
    "\n",
    "# Create a pie chart\n",
    "plt.figure(figsize=(6, 6))\n",
    "plt.pie(class_counts, labels=class_counts.index, autopct=\"%1.1f%%\")\n",
    "plt.title(\"Distribution of Class Labels\")\n",
    "plt.show()"
   ]
  },
  {
   "cell_type": "code",
   "execution_count": 24,
   "id": "0a1987b5",
   "metadata": {},
   "outputs": [
    {
     "data": {
      "image/png": "[encoded data removed]",
      "text/plain": [
       "<Figure size 600x600 with 1 Axes>"
      ]
     },
     "metadata": {},
     "output_type": "display_data"
    }
   ],
   "source": [
    "# I don't know why this doesn't work\n",
    "from imblearn.over_sampling import RandomOverSampler\n",
    "ros = RandomOverSampler(random_state=42)\n",
    "X_resampled, y_resampled = ros.fit_resample(X, y)\n",
    "\n",
    "df['label_name'] = y_resampled.replace({0: 'Benign', 1: 'Malware'})\n",
    "\n",
    "class_counts = df['label_name'].value_counts()\n",
    "\n",
    "plt.figure(figsize=(6, 6))\n",
    "plt.pie(class_counts, labels=class_counts.index, autopct=\"%1.1f%%\")\n",
    "plt.title(\"Distribution of Class Labels with ROS\")\n",
    "plt.show()"
   ]
  }
 ],
 "metadata": {
  "kernelspec": {
   "display_name": "Python 3 (ipykernel)",
   "language": "python",
   "name": "python3"
  },
  "language_info": {
   "codemirror_mode": {
    "name": "ipython",
    "version": 3
   },
   "file_extension": ".py",
   "mimetype": "text/x-python",
   "name": "python",
   "nbconvert_exporter": "python",
   "pygments_lexer": "ipython3",
   "version": "3.11.5"
  }
 },
 "nbformat": 4,
 "nbformat_minor": 5
}
